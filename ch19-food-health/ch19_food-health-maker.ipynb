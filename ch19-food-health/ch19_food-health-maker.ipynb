{
 "cells": [
  {
   "cell_type": "markdown",
   "metadata": {},
   "source": [
    "___\n",
    "###  Chapter 19 – Food and Health Case study\n",
    "#### Relating food habits and health outcomes\n",
    "\n",
    "Comes from the idea by Emily Oster's article in Slate (2018)\n",
    "\n",
    "NHANES data, using aggregated features from Emily Oster\n",
    "___"
   ]
  },
  {
   "cell_type": "code",
   "execution_count": 1,
   "metadata": {},
   "outputs": [],
   "source": [
    "import warnings\n",
    "warnings.filterwarnings('ignore')\n",
    "import pandas as pd\n",
    "import numpy as np\n",
    "import os\n",
    "import sys"
   ]
  },
  {
   "cell_type": "code",
   "execution_count": 2,
   "metadata": {},
   "outputs": [],
   "source": [
    "# Current script folder\n",
    "current_path = os.getcwd()\n",
    "dirname = \"/\".join(current_path.split(\"/\")[:-2]) + \"/\"\n",
    "\n",
    "# location folders\n",
    "data_in = dirname + \"da_data_repo/food-health/clean/\"\n",
    "data_out = dirname + \"da_case_studies/ch19-food-health\"\n",
    "output = dirname + \"da_case_studies/ch19-food-health/output/\"\n",
    "\n",
    "func = dirname + \"da_case_studies/ch00-tech-prep/\"\n",
    "sys.path.append(func)"
   ]
  },
  {
   "cell_type": "code",
   "execution_count": 3,
   "metadata": {},
   "outputs": [],
   "source": [
    "# Import the prewritten helper functions \n",
    "from py_helper_functions import *"
   ]
  },
  {
   "cell_type": "markdown",
   "metadata": {},
   "source": [
    "### PART I. FEATURE ENGINEERING ––> VARIABLES FOR THE EXERCISE"
   ]
  },
  {
   "cell_type": "code",
   "execution_count": 4,
   "metadata": {},
   "outputs": [],
   "source": [
    "data = pd.read_stata(data_in + \"food_dataset_pers_extended_09-11-13.dta\")"
   ]
  },
  {
   "cell_type": "markdown",
   "metadata": {},
   "source": [
    "### Food"
   ]
  },
  {
   "cell_type": "code",
   "execution_count": 5,
   "metadata": {},
   "outputs": [],
   "source": [
    "veggies = [\n",
    "    \"other_vegetable\",\n",
    "    \"collard_greens\",\n",
    "    \"dandelion_greens\",\n",
    "    \"romaine_lettuce\",\n",
    "    \"generic_greens\",\n",
    "    \"kale\",\n",
    "    \"mustard_greens\",\n",
    "    \"spinach\",\n",
    "    \"turnip_greens\",\n",
    "    \"broccoli\",\n",
    "    \"dark_green_vegetable_soup\",\n",
    "    \"carrots\",\n",
    "    \"pumpkin\",\n",
    "    \"sweet_potato\",\n",
    "    \"squash\",\n",
    "    \"tomato\",\n",
    "    \"sprouts\",\n",
    "    \"artichoke\",\n",
    "    \"asparagus\",\n",
    "    \"green_beans\",\n",
    "    \"beets\",\n",
    "    \"brussels_sprouts\",\n",
    "    \"cabbage\",\n",
    "    \"cauliflower\",\n",
    "    \"celery\",\n",
    "    \"corn\",\n",
    "    \"cucumber\",\n",
    "    \"eggplant\",\n",
    "    \"lettuce\",\n",
    "    \"arugula\",\n",
    "    \"mushrooms\",\n",
    "    \"onions\",\n",
    "    \"peas\",\n",
    "    \"peppers\",\n",
    "    \"radish\",\n",
    "    \"snow_peas\",\n",
    "]\n",
    "\n",
    "fruits = [\n",
    "    \"grapefruit\",\n",
    "    \"lemon\",\n",
    "    \"orange\",\n",
    "    \"apple\",\n",
    "    \"applesauce\",\n",
    "    \"apricot\",\n",
    "    \"avocado\",\n",
    "    \"banana\",\n",
    "    \"cantaloupe\",\n",
    "    \"cherries\",\n",
    "    \"other_fruit\",\n",
    "    \"grapes\",\n",
    "    \"guava\",\n",
    "    \"kiwi\",\n",
    "    \"honeydew\",\n",
    "    \"mango\",\n",
    "    \"nectarine\",\n",
    "    \"papaya\",\n",
    "    \"peach\",\n",
    "    \"pear\",\n",
    "    \"pineapple\",\n",
    "    \"plum\",\n",
    "    \"watermelon\",\n",
    "    \"blackberries\",\n",
    "    \"blueberries\",\n",
    "    \"cranberries\",\n",
    "    \"raspberries\",\n",
    "    \"strawberries\",\n",
    "]\n",
    "\n",
    "beef_all = [\n",
    "    \"beef\",\n",
    "    \"beef_frozen_meal\",\n",
    "    \"beef_soup\",\n",
    "    \"beef_lean\",\n",
    "    \"beef_with_starch\",\n",
    "    \"beef_with_starch_vegetable\",\n",
    "    \"beef_with_vegetable\",\n",
    "]\n",
    "\n",
    "red_meat_all = [\n",
    "    \"beef\",\n",
    "    \"beef_frozen_meal\",\n",
    "    \"beef_soup\",\n",
    "    \"beef_lean\",\n",
    "    \"beef_with_starch\",\n",
    "    \"beef_with_starch_vegetable\",\n",
    "    \"beef_with_vegetable\",\n",
    "    \"pork\",\n",
    "    \"pork_lean\",\n",
    "    \"pork_soup\",\n",
    "    \"pork_with_starch\",\n",
    "    \"pork_with_starch_vegetable\",\n",
    "    \"pork_with_vegetable\",\n",
    "    \"lamb\",\n",
    "    \"lamb_lean\",\n",
    "]\n",
    "\n",
    "nuts = [\"almonds\", \"cashews\", \"nuts_other\"]"
   ]
  },
  {
   "cell_type": "code",
   "execution_count": 6,
   "metadata": {},
   "outputs": [],
   "source": [
    "data[\"veggies_n_fruits\"] = data[veggies + fruits].sum(axis=1)\n",
    "data[\"veggies_n_fruits_gr\"] = data[[\"gr_\" + item for item in veggies + fruits]].sum(\n",
    "    axis=1\n",
    ")\n",
    "data[\"coffee_espressounit\"] = data[[\"dr1tcaff\", \"dr2tcaff\"]].sum(axis=1) / 120\n",
    "data[\"beef_all\"] = data[beef_all].sum(axis=1)\n",
    "data[\"red_meat_all\"] = data[red_meat_all].sum(axis=1)\n",
    "data[\"nuts\"] = data[nuts].sum(axis=1)"
   ]
  },
  {
   "cell_type": "code",
   "execution_count": 7,
   "metadata": {},
   "outputs": [],
   "source": [
    "data[\"veggies_n_fruits\"] = data[\"veggies_n_fruits\"].apply(lambda x: 11 if x > 11 else x)\n",
    "data[\"coffee_espressounit\"] = data[\"coffee_espressounit\"].apply(\n",
    "    lambda x: 15 if x > 12 else x\n",
    ")"
   ]
  },
  {
   "cell_type": "markdown",
   "metadata": {},
   "source": [
    "### SOCIO-ECON, GENDER, AGE"
   ]
  },
  {
   "cell_type": "markdown",
   "metadata": {},
   "source": [
    "gender, age"
   ]
  },
  {
   "cell_type": "code",
   "execution_count": 8,
   "metadata": {},
   "outputs": [],
   "source": [
    "data[\"gender\"] = np.where(data[\"riagendr\"] == 1, \"male\", \"female\")\n",
    "data[\"age\"] = data[\"ridageyr\"]\n",
    "data[\"age2\"] = data[\"ridageyr\"] ** 2"
   ]
  },
  {
   "cell_type": "code",
   "execution_count": 9,
   "metadata": {},
   "outputs": [],
   "source": [
    "data = data.query(\"age>=18\").reset_index(drop=True)"
   ]
  },
  {
   "cell_type": "code",
   "execution_count": 10,
   "metadata": {},
   "outputs": [],
   "source": [
    "data[\"age_cut\"] = pd.cut(\n",
    "    data[\"age\"],\n",
    "    bins=[18, 30, 40, 50, 60, 70, 81],\n",
    "    labels=[\n",
    "        \"aged 18-29\",\n",
    "        \"aged 30-39\",\n",
    "        \"aged 40-49\",\n",
    "        \"aged 50-59\",\n",
    "        \"aged 60-69\",\n",
    "        \"aged 70+\",\n",
    "    ],\n",
    ")"
   ]
  },
  {
   "cell_type": "markdown",
   "metadata": {},
   "source": [
    "socio-economic"
   ]
  },
  {
   "cell_type": "code",
   "execution_count": 11,
   "metadata": {},
   "outputs": [],
   "source": [
    "data[\"race\"] = data[\"ridreth1\"]\n",
    "\n",
    "data[\"married\"] = (data[\"dmdmartl\"] == 1) | (data[\"dmdmartl\"] == 6)\n",
    "\n",
    "data[\"edu\"] = np.where(data[\"dmdeduc2\"] > 5, None, data[\"dmdeduc2\"])\n",
    "\n",
    "data[\"hh_size\"] = data[\"dmdhhsiz\"]\n",
    "\n",
    "data[\"hh_income\"] = data[\"indhhin2\"]\n",
    "data.loc[data[\"hh_income\"] == 12, \"hh_income\"] = 6\n",
    "data.loc[data[\"hh_income\"] == 13, \"hh_income\"] = 4\n",
    "data.loc[data[\"hh_income\"] == 14, \"hh_income\"] = 12\n",
    "data.loc[data[\"hh_income\"] == 15, \"hh_income\"] = 13\n",
    "data.loc[data[\"hh_income\"] > 15, \"hh_income\"] = None"
   ]
  },
  {
   "cell_type": "code",
   "execution_count": 12,
   "metadata": {},
   "outputs": [],
   "source": [
    "hh_income_usd_recode = {\n",
    "    1: 2500,\n",
    "    2: 7500,\n",
    "    3: 12500,\n",
    "    4: 17500,\n",
    "    5: 22500,\n",
    "    6: 30000,\n",
    "    7: 40000,\n",
    "    8: 50000,\n",
    "    9: 60000,\n",
    "    10: 70000,\n",
    "    12: 30000,\n",
    "    13: 10000,\n",
    "    14: 85000,\n",
    "    15: 150000,\n",
    "    77: 40000,\n",
    "    99: 40000,\n",
    "}\n",
    "\n",
    "for i in hh_income_usd_recode:\n",
    "    data.loc[data[\"indhhin2\"] == i, \"hh_income_usd\"] = hh_income_usd_recode[i]"
   ]
  },
  {
   "cell_type": "code",
   "execution_count": 13,
   "metadata": {},
   "outputs": [],
   "source": [
    "data[\"hh_income_percap\"] = data[\"hh_income_usd\"] / data[\"hh_size\"]"
   ]
  },
  {
   "cell_type": "markdown",
   "metadata": {},
   "source": [
    "prep for regression"
   ]
  },
  {
   "cell_type": "code",
   "execution_count": 14,
   "metadata": {},
   "outputs": [],
   "source": [
    "# prep for regressions\n",
    "\n",
    "data[\"ln_hh_income_percap\"] = np.log(data[\"hh_income_percap\"])\n",
    "data[\"income_cat\"] = pd.cut(\n",
    "    data[\"hh_income_percap\"],\n",
    "    bins=[1000, 10000, 30000, 150000],\n",
    "    labels=[\"low\", \"mid\", \"high\"],\n",
    ")\n",
    "data[\"work_occupation\"] = data[\"ocd241\"]\n",
    "data[\"work_type\"] = data[\"ocd150\"]\n",
    "data[\"work_hs\"] = data[\"ocq180\"]\n",
    "data.loc[data[\"work_hs\"] > 150, \"work_hs\"] = None\n",
    "data.loc[data[\"work_hs\"] > 100, \"work_hs\"] = 100"
   ]
  },
  {
   "cell_type": "markdown",
   "metadata": {},
   "source": [
    "### HEALTH OUTCOMES"
   ]
  },
  {
   "cell_type": "code",
   "execution_count": 15,
   "metadata": {},
   "outputs": [],
   "source": [
    "# sport\n",
    "data[\"sport_days\"] = data[\"paq655\"].fillna(0)\n",
    "data[\"walk_cycle_days\"] = data[\"paq640\"].fillna(0)"
   ]
  },
  {
   "cell_type": "code",
   "execution_count": 16,
   "metadata": {},
   "outputs": [],
   "source": [
    "# smoke\n",
    "data[\"smoker\"] = (data[\"smq040\"] == 1) | (data[\"smq040\"] == 2)"
   ]
  },
  {
   "cell_type": "code",
   "execution_count": 17,
   "metadata": {},
   "outputs": [],
   "source": [
    "# sleep\n",
    "data[\"sleep_hs\"] = data[\"sld010h\"]\n",
    "data[\"bp_systolic\"] = data[\"bpxsy1\"]\n",
    "data[\"bp_diastolic\"] = data[\"bpxdi1\"]\n",
    "data[\"total_cholesterol\"] = data[\"lbdhdd\"]\n",
    "data[\"hdl\"] = data[\"lbxtc\"]\n",
    "data[\"weight\"] = data[\"bmxwt\"]\n",
    "data[\"height\"] = data[\"bmxht\"]\n",
    "data[\"ldl\"] = data[\"lbxtc\"] - data[\"lbdhdd\"]\n",
    "\n",
    "data.loc[data[\"ldl\"] < 60, \"ldl\"] = 60\n",
    "data.loc[data[\"ldl\"] > 250, \"ldl\"] = 250"
   ]
  },
  {
   "cell_type": "code",
   "execution_count": 18,
   "metadata": {},
   "outputs": [],
   "source": [
    "# BMI and normal weight variables\n",
    "\n",
    "data[\"bmi\"] = 10000 * data[\"weight\"] / (data[\"height\"] ** 2)\n",
    "data[\"normal_weight\"] = np.where(data[\"bmi\"] < 25, 1, 0)"
   ]
  },
  {
   "cell_type": "code",
   "execution_count": 19,
   "metadata": {},
   "outputs": [],
   "source": [
    "# Blood pressure variables\n",
    "\n",
    "data.loc[data[\"bp_systolic\"]==0,\"bp_systolic\"] = None\n",
    "data.loc[data[\"bp_systolic\"]<85,\"bp_systolic\"] = 85\n",
    "data.loc[data[\"bp_systolic\"]>200,\"bp_systolic\"] = 200\n",
    "\n",
    "data.loc[data[\"bp_diastolic\"]==0,\"bp_diastolic\"] = None\n",
    "data.loc[data[\"bp_diastolic\"]<40,\"bp_diastolic\"] = 40\n",
    "data.loc[data[\"bp_diastolic\"]>100,\"bp_diastolic\"] = 100\n"
   ]
  },
  {
   "cell_type": "code",
   "execution_count": 20,
   "metadata": {},
   "outputs": [],
   "source": [
    "# gabor's score\n",
    "\n",
    "data[\"blood_pressure\"] = data[\"bp_systolic\"] + data[\"bp_diastolic\"]"
   ]
  },
  {
   "cell_type": "code",
   "execution_count": 21,
   "metadata": {},
   "outputs": [],
   "source": [
    "# heart health\n",
    "\n",
    "data[\"heart_risk\"] = data[\"ldl\"] + data[\"blood_pressure\"]"
   ]
  },
  {
   "cell_type": "code",
   "execution_count": 22,
   "metadata": {},
   "outputs": [],
   "source": [
    "data = data.drop(\n",
    "    [\"sld010h\", \"bpxsy1\", \"bpxdi1\", \"lbxtc\", \"lbdhdd\", \"bmxwt\", \"bmxht\", \"dmdmartl\"],\n",
    "    axis=1,\n",
    ")"
   ]
  },
  {
   "cell_type": "markdown",
   "metadata": {},
   "source": [
    "___"
   ]
  },
  {
   "cell_type": "code",
   "execution_count": 25,
   "metadata": {},
   "outputs": [],
   "source": [
    "data.to_csv(data_in + \"food-health.csv\", index=False)"
   ]
  }
 ],
 "metadata": {
  "kernelspec": {
   "display_name": "Python 3",
   "language": "python",
   "name": "python3"
  },
  "language_info": {
   "codemirror_mode": {
    "name": "ipython",
    "version": 3
   },
   "file_extension": ".py",
   "mimetype": "text/x-python",
   "name": "python",
   "nbconvert_exporter": "python",
   "pygments_lexer": "ipython3",
   "version": "3.8.6"
  }
 },
 "nbformat": 4,
 "nbformat_minor": 4
}
