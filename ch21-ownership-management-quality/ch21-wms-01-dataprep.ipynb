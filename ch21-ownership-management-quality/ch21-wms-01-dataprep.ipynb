{
 "cells": [
  {
   "cell_type": "markdown",
   "metadata": {},
   "source": [
    "#### Prepared for Gabor's Data Analysis\n",
    "\n",
    "### Data Analysis for Business, Economics, and Policy\n",
    "by Gabor Bekes and  Gabor Kezdi\n",
    " \n",
    "Cambridge University Press 2021\n",
    "\n",
    "**[gabors-data-analysis.com ](https://gabors-data-analysis.com/)**\n",
    "\n",
    " License: Free to share, modify and use for educational purposes. \n",
    " Not to be used for commercial purposes.\n",
    "\n",
    "### CHAPTER 21\n",
    "**CH20A Founder/family ownership and quality of management**\n",
    "\n",
    " using the wms-management dataset\n",
    " \n",
    " version 0.9 2020-09-11"
   ]
  },
  {
   "cell_type": "code",
   "execution_count": 33,
   "metadata": {},
   "outputs": [],
   "source": [
    "import warnings\n",
    "warnings.filterwarnings('ignore')\n",
    "import pandas as pd\n",
    "from plotnine import *\n",
    "import statsmodels.api as sm\n",
    "import statsmodels.formula.api as smf\n",
    "import os\n",
    "import sys\n",
    "from stargazer.stargazer import Stargazer\n",
    "from IPython.core.display import HTML"
   ]
  },
  {
   "cell_type": "code",
   "execution_count": 34,
   "metadata": {},
   "outputs": [],
   "source": [
    "# Current script folder\n",
    "current_path = os.getcwd()\n",
    "dirname = \"/\".join(current_path.split(\"/\")[:-2]) + \"/\"\n",
    "\n",
    "# location folders\n",
    "data_in = dirname + \"da_data_repo/wms-management-survey/clean/\"\n",
    "data_out = dirname + \"da_case_studies/ch21-ownership-management-quality/\"\n",
    "output = dirname + \"da_case_studies/ch21-ownership-management-quality/output/\"\n",
    "\n",
    "func = dirname + \"da_case_studies/ch00-tech-prep/\"\n",
    "sys.path.append(func)"
   ]
  },
  {
   "cell_type": "code",
   "execution_count": 35,
   "metadata": {},
   "outputs": [],
   "source": [
    "# Import the prewritten helper functions \n",
    "from py_helper_functions import *"
   ]
  },
  {
   "cell_type": "markdown",
   "metadata": {},
   "source": [
    "## PART I\n",
    "\n",
    "### Data prep"
   ]
  },
  {
   "cell_type": "code",
   "execution_count": 36,
   "metadata": {},
   "outputs": [],
   "source": [
    "data = pd.read_csv(data_in+\"wms_da_textbook-xsec.csv\")"
   ]
  },
  {
   "cell_type": "code",
   "execution_count": 37,
   "metadata": {},
   "outputs": [],
   "source": [
    "# Ownership: define founder/family owned and drop ownership that's missing or not relevant\n",
    "# Ownership"
   ]
  },
  {
   "cell_type": "code",
   "execution_count": 38,
   "metadata": {},
   "outputs": [
    {
     "data": {
      "text/html": [
       "<div>\n",
       "<style scoped>\n",
       "    .dataframe tbody tr th:only-of-type {\n",
       "        vertical-align: middle;\n",
       "    }\n",
       "\n",
       "    .dataframe tbody tr th {\n",
       "        vertical-align: top;\n",
       "    }\n",
       "\n",
       "    .dataframe thead th {\n",
       "        text-align: right;\n",
       "    }\n",
       "</style>\n",
       "<table border=\"1\" class=\"dataframe\">\n",
       "  <thead>\n",
       "    <tr style=\"text-align: right;\">\n",
       "      <th></th>\n",
       "      <th>Freq</th>\n",
       "      <th>Percent</th>\n",
       "      <th>Cum</th>\n",
       "    </tr>\n",
       "    <tr>\n",
       "      <th>ownership</th>\n",
       "      <th></th>\n",
       "      <th></th>\n",
       "      <th></th>\n",
       "    </tr>\n",
       "  </thead>\n",
       "  <tbody>\n",
       "    <tr>\n",
       "      <th>Dispersed Shareholders</th>\n",
       "      <td>2745</td>\n",
       "      <td>26.70</td>\n",
       "      <td>26.70</td>\n",
       "    </tr>\n",
       "    <tr>\n",
       "      <th>Family owned, CEO unknown</th>\n",
       "      <td>55</td>\n",
       "      <td>0.53</td>\n",
       "      <td>27.23</td>\n",
       "    </tr>\n",
       "    <tr>\n",
       "      <th>Family owned, external CEO</th>\n",
       "      <td>346</td>\n",
       "      <td>3.37</td>\n",
       "      <td>30.60</td>\n",
       "    </tr>\n",
       "    <tr>\n",
       "      <th>Family owned, family CEO</th>\n",
       "      <td>1755</td>\n",
       "      <td>17.07</td>\n",
       "      <td>47.67</td>\n",
       "    </tr>\n",
       "    <tr>\n",
       "      <th>Founder owned, CEO unknown</th>\n",
       "      <td>41</td>\n",
       "      <td>0.40</td>\n",
       "      <td>48.06</td>\n",
       "    </tr>\n",
       "    <tr>\n",
       "      <th>Founder owned, external CEO</th>\n",
       "      <td>300</td>\n",
       "      <td>2.92</td>\n",
       "      <td>50.98</td>\n",
       "    </tr>\n",
       "    <tr>\n",
       "      <th>Founder owned, founder CEO</th>\n",
       "      <td>1856</td>\n",
       "      <td>18.05</td>\n",
       "      <td>69.03</td>\n",
       "    </tr>\n",
       "    <tr>\n",
       "      <th>Government</th>\n",
       "      <td>170</td>\n",
       "      <td>1.65</td>\n",
       "      <td>70.69</td>\n",
       "    </tr>\n",
       "    <tr>\n",
       "      <th>Other</th>\n",
       "      <td>527</td>\n",
       "      <td>5.13</td>\n",
       "      <td>75.81</td>\n",
       "    </tr>\n",
       "    <tr>\n",
       "      <th>Private Equity/Venture Capital</th>\n",
       "      <td>353</td>\n",
       "      <td>3.43</td>\n",
       "      <td>79.25</td>\n",
       "    </tr>\n",
       "    <tr>\n",
       "      <th>Private Individuals</th>\n",
       "      <td>2118</td>\n",
       "      <td>20.60</td>\n",
       "      <td>99.84</td>\n",
       "    </tr>\n",
       "    <tr>\n",
       "      <th>NaN</th>\n",
       "      <td>16</td>\n",
       "      <td>0.16</td>\n",
       "      <td>100.00</td>\n",
       "    </tr>\n",
       "  </tbody>\n",
       "</table>\n",
       "</div>"
      ],
      "text/plain": [
       "                                Freq  Percent     Cum\n",
       "ownership                                            \n",
       "Dispersed Shareholders          2745    26.70   26.70\n",
       "Family owned, CEO unknown         55     0.53   27.23\n",
       "Family owned, external CEO       346     3.37   30.60\n",
       "Family owned, family CEO        1755    17.07   47.67\n",
       "Founder owned, CEO unknown        41     0.40   48.06\n",
       "Founder owned, external CEO      300     2.92   50.98\n",
       "Founder owned, founder CEO      1856    18.05   69.03\n",
       "Government                       170     1.65   70.69\n",
       "Other                            527     5.13   75.81\n",
       "Private Equity/Venture Capital   353     3.43   79.25\n",
       "Private Individuals             2118    20.60   99.84\n",
       "NaN                               16     0.16  100.00"
      ]
     },
     "execution_count": 38,
     "metadata": {},
     "output_type": "execute_result"
    }
   ],
   "source": [
    "ownership = (\n",
    "    data.groupby(\"ownership\", dropna=False)\n",
    "    .agg(Freq=(\"firmid\", \"count\"))\n",
    "    .assign(Percent=lambda x: 100 * x / x.sum())\n",
    ")\n",
    "ownership[\"Cum\"] = ownership[\"Percent\"].cumsum()\n",
    "ownership.round(2)"
   ]
  },
  {
   "cell_type": "code",
   "execution_count": 39,
   "metadata": {},
   "outputs": [],
   "source": [
    "# Define foundfam owned"
   ]
  },
  {
   "cell_type": "code",
   "execution_count": 40,
   "metadata": {},
   "outputs": [],
   "source": [
    "data[\"foundfam_owned\"] = np.where(\n",
    "    (data[\"ownership\"] == \"Family owned, external CEO\")\n",
    "    | (data[\"ownership\"] == \"Family owned, family CEO\")\n",
    "    | (data[\"ownership\"] == \"Family owned, CEO unknown\")\n",
    "    | (data[\"ownership\"] == \"Founder owned, external CEO\")\n",
    "    | (data[\"ownership\"] == \"Founder owned, CEO unknown\")\n",
    "    | (data[\"ownership\"] == \"Founder owned, founder CEO\"),\n",
    "    1,\n",
    "    np.where(data[\"ownership\"].isnull(), np.nan, 0),\n",
    ")"
   ]
  },
  {
   "cell_type": "code",
   "execution_count": 41,
   "metadata": {},
   "outputs": [],
   "source": [
    "# Foundfam owned"
   ]
  },
  {
   "cell_type": "code",
   "execution_count": 42,
   "metadata": {},
   "outputs": [
    {
     "data": {
      "text/html": [
       "<div>\n",
       "<style scoped>\n",
       "    .dataframe tbody tr th:only-of-type {\n",
       "        vertical-align: middle;\n",
       "    }\n",
       "\n",
       "    .dataframe tbody tr th {\n",
       "        vertical-align: top;\n",
       "    }\n",
       "\n",
       "    .dataframe thead th {\n",
       "        text-align: right;\n",
       "    }\n",
       "</style>\n",
       "<table border=\"1\" class=\"dataframe\">\n",
       "  <thead>\n",
       "    <tr style=\"text-align: right;\">\n",
       "      <th></th>\n",
       "      <th>Freq</th>\n",
       "      <th>Percent</th>\n",
       "      <th>Cum</th>\n",
       "    </tr>\n",
       "    <tr>\n",
       "      <th>foundfam_owned</th>\n",
       "      <th></th>\n",
       "      <th></th>\n",
       "      <th></th>\n",
       "    </tr>\n",
       "  </thead>\n",
       "  <tbody>\n",
       "    <tr>\n",
       "      <th>0.0</th>\n",
       "      <td>5913</td>\n",
       "      <td>57.51</td>\n",
       "      <td>57.51</td>\n",
       "    </tr>\n",
       "    <tr>\n",
       "      <th>1.0</th>\n",
       "      <td>4353</td>\n",
       "      <td>42.34</td>\n",
       "      <td>99.84</td>\n",
       "    </tr>\n",
       "    <tr>\n",
       "      <th>NaN</th>\n",
       "      <td>16</td>\n",
       "      <td>0.16</td>\n",
       "      <td>100.00</td>\n",
       "    </tr>\n",
       "  </tbody>\n",
       "</table>\n",
       "</div>"
      ],
      "text/plain": [
       "                Freq  Percent     Cum\n",
       "foundfam_owned                       \n",
       "0.0             5913    57.51   57.51\n",
       "1.0             4353    42.34   99.84\n",
       "NaN               16     0.16  100.00"
      ]
     },
     "execution_count": 42,
     "metadata": {},
     "output_type": "execute_result"
    }
   ],
   "source": [
    "ownership = (\n",
    "    data.groupby(\"foundfam_owned\", dropna=False)\n",
    "    .agg(Freq=(\"firmid\", \"count\"))\n",
    "    .assign(Percent=lambda x: 100 * x / x.sum())\n",
    ")\n",
    "ownership[\"Cum\"] = ownership[\"Percent\"].cumsum()\n",
    "ownership.round(2)"
   ]
  },
  {
   "cell_type": "code",
   "execution_count": 43,
   "metadata": {},
   "outputs": [],
   "source": [
    "# Proportion of managers/non-managers with a college degree\n",
    "# need correction: -44 means do not know, -99 means missing"
   ]
  },
  {
   "cell_type": "code",
   "execution_count": 44,
   "metadata": {},
   "outputs": [],
   "source": [
    "data[\"degree_m\"] = data[\"degree_m\"] / 100\n",
    "data[\"degree_nm\"] = data[\"degree_nm\"] / 100\n",
    "data.loc[data[\"degree_m\"] < 0, \"degree_m\"] = None\n",
    "data.loc[data[\"degree_nm\"] < 0, \"degree_nm\"] = None"
   ]
  },
  {
   "cell_type": "code",
   "execution_count": 45,
   "metadata": {},
   "outputs": [],
   "source": [
    "# Generate bins from degree_nm"
   ]
  },
  {
   "cell_type": "code",
   "execution_count": 46,
   "metadata": {},
   "outputs": [
    {
     "data": {
      "text/html": [
       "<div>\n",
       "<style scoped>\n",
       "    .dataframe tbody tr th:only-of-type {\n",
       "        vertical-align: middle;\n",
       "    }\n",
       "\n",
       "    .dataframe tbody tr th {\n",
       "        vertical-align: top;\n",
       "    }\n",
       "\n",
       "    .dataframe thead th {\n",
       "        text-align: right;\n",
       "    }\n",
       "</style>\n",
       "<table border=\"1\" class=\"dataframe\">\n",
       "  <thead>\n",
       "    <tr style=\"text-align: right;\">\n",
       "      <th></th>\n",
       "      <th>0%</th>\n",
       "      <th>10%</th>\n",
       "      <th>25%</th>\n",
       "      <th>50%</th>\n",
       "      <th>75%</th>\n",
       "      <th>90%</th>\n",
       "      <th>100%</th>\n",
       "    </tr>\n",
       "  </thead>\n",
       "  <tbody>\n",
       "    <tr>\n",
       "      <th>degree_nm</th>\n",
       "      <td>0.0</td>\n",
       "      <td>0.0</td>\n",
       "      <td>0.0</td>\n",
       "      <td>0.05</td>\n",
       "      <td>0.14</td>\n",
       "      <td>0.3</td>\n",
       "      <td>1.0</td>\n",
       "    </tr>\n",
       "  </tbody>\n",
       "</table>\n",
       "</div>"
      ],
      "text/plain": [
       "            0%  10%  25%   50%   75%  90%  100%\n",
       "degree_nm  0.0  0.0  0.0  0.05  0.14  0.3   1.0"
      ]
     },
     "execution_count": 46,
     "metadata": {},
     "output_type": "execute_result"
    }
   ],
   "source": [
    "pd.DataFrame(\n",
    "    data[\"degree_nm\"].describe(percentiles=[0, 0.1, 0.25, 0.5, 0.75, 0.9, 1])\n",
    ").T.iloc[:, 4:-1]"
   ]
  },
  {
   "cell_type": "code",
   "execution_count": 47,
   "metadata": {},
   "outputs": [],
   "source": [
    "data[\"degree_nm_bins\"] = pd.cut(\n",
    "    data[\"degree_nm\"], bins=[0, 0.001, 0.05, 0.20, 1.01], right=False\n",
    ")\n",
    "data[\"degree_nm_sq\"] = data[\"degree_nm\"] ** 2"
   ]
  },
  {
   "cell_type": "code",
   "execution_count": 48,
   "metadata": {},
   "outputs": [
    {
     "data": {
      "text/html": [
       "<div>\n",
       "<style scoped>\n",
       "    .dataframe tbody tr th:only-of-type {\n",
       "        vertical-align: middle;\n",
       "    }\n",
       "\n",
       "    .dataframe tbody tr th {\n",
       "        vertical-align: top;\n",
       "    }\n",
       "\n",
       "    .dataframe thead th {\n",
       "        text-align: right;\n",
       "    }\n",
       "</style>\n",
       "<table border=\"1\" class=\"dataframe\">\n",
       "  <thead>\n",
       "    <tr style=\"text-align: right;\">\n",
       "      <th></th>\n",
       "      <th>min</th>\n",
       "      <th>max</th>\n",
       "      <th>n</th>\n",
       "    </tr>\n",
       "    <tr>\n",
       "      <th>degree_nm_bins</th>\n",
       "      <th></th>\n",
       "      <th></th>\n",
       "      <th></th>\n",
       "    </tr>\n",
       "  </thead>\n",
       "  <tbody>\n",
       "    <tr>\n",
       "      <th>[0.0, 0.001)</th>\n",
       "      <td>0.00</td>\n",
       "      <td>0.00</td>\n",
       "      <td>3034</td>\n",
       "    </tr>\n",
       "    <tr>\n",
       "      <th>[0.001, 0.05)</th>\n",
       "      <td>0.01</td>\n",
       "      <td>0.04</td>\n",
       "      <td>1434</td>\n",
       "    </tr>\n",
       "    <tr>\n",
       "      <th>[0.05, 0.2)</th>\n",
       "      <td>0.05</td>\n",
       "      <td>0.19</td>\n",
       "      <td>3107</td>\n",
       "    </tr>\n",
       "    <tr>\n",
       "      <th>[0.2, 1.01)</th>\n",
       "      <td>0.20</td>\n",
       "      <td>1.00</td>\n",
       "      <td>1957</td>\n",
       "    </tr>\n",
       "  </tbody>\n",
       "</table>\n",
       "</div>"
      ],
      "text/plain": [
       "                 min   max     n\n",
       "degree_nm_bins                  \n",
       "[0.0, 0.001)    0.00  0.00  3034\n",
       "[0.001, 0.05)   0.01  0.04  1434\n",
       "[0.05, 0.2)     0.05  0.19  3107\n",
       "[0.2, 1.01)     0.20  1.00  1957"
      ]
     },
     "execution_count": 48,
     "metadata": {},
     "output_type": "execute_result"
    }
   ],
   "source": [
    "data.groupby(\"degree_nm_bins\", dropna=False).agg(\n",
    "    min=(\"degree_nm\", \"min\"), max=(\"degree_nm\", max), n=(\"degree_nm\", \"count\")\n",
    ")"
   ]
  },
  {
   "cell_type": "code",
   "execution_count": 49,
   "metadata": {},
   "outputs": [],
   "source": [
    "# Take log of employment\n",
    "data[\"lnemp\"] = np.log(data[\"emp_firm\"])"
   ]
  },
  {
   "cell_type": "code",
   "execution_count": 50,
   "metadata": {},
   "outputs": [],
   "source": [
    "# Competition\n",
    "data[\"competition\"] = data[\"competition\"].str.strip()\n",
    "data[\"compet_weak\"] = (data[\"competition\"] == \"0 competitors\") | (\n",
    "    data[\"competition\"] == \"1-4 competitors\"\n",
    ")\n",
    "data[\"compet_moder\"] = data[\"competition\"] == \"5-9 competitors\"\n",
    "data[\"compet_strong\"] = data[\"competition\"] == \"10+ competitors\""
   ]
  },
  {
   "cell_type": "code",
   "execution_count": 51,
   "metadata": {},
   "outputs": [],
   "source": [
    "# Industry in 2 digits\n",
    "\n",
    "industry_names = [\n",
    "    \"food\",\n",
    "    \"tobacco\",\n",
    "    \"textile\",\n",
    "    \"apparel\",\n",
    "    \"lumber\",\n",
    "    \"furniture\",\n",
    "    \"paper\",\n",
    "    \"printing\",\n",
    "    \"chemical\",\n",
    "    \"petrol\",\n",
    "    \"rubber\",\n",
    "    \"leather\",\n",
    "    \"glass\",\n",
    "    \"primary_metal\",\n",
    "    \"fabricated_metal\",\n",
    "    \"ind_machinery\",\n",
    "    \"electronic\",\n",
    "    \"transport\",\n",
    "    \"instrument\",\n",
    "    \"misc_manuf\",\n",
    "]"
   ]
  },
  {
   "cell_type": "code",
   "execution_count": 52,
   "metadata": {
    "scrolled": true
   },
   "outputs": [],
   "source": [
    "_, index = pd.factorize(data[\"sic\"], sort=True)\n",
    "dic = dict(zip(index, industry_names))\n",
    "data[\"industry\"] = data.loc[data[\"sic\"].notnull(), \"sic\"].apply(lambda x: dic[x])"
   ]
  },
  {
   "cell_type": "code",
   "execution_count": 53,
   "metadata": {},
   "outputs": [],
   "source": [
    "# Country as factor\n",
    "data[\"countrycode\"] = data[\"cty\"]"
   ]
  },
  {
   "cell_type": "code",
   "execution_count": 54,
   "metadata": {},
   "outputs": [],
   "source": [
    "# age\n",
    "data[\"age_unknown\"] = data[\"firmage\"].isnull()\n",
    "data[\"age_young\"] = data[\"firmage\"] < 30\n",
    "data[\"age_old\"] = data[\"firmage\"] > 80\n",
    "data[\"age_mid\"] = (\n",
    "    (data[\"age_young\"] == False)\n",
    "    & (data[\"age_old\"] == False)\n",
    "    & (data[\"age_unknown\"] == False)\n",
    ")"
   ]
  },
  {
   "cell_type": "code",
   "execution_count": 60,
   "metadata": {},
   "outputs": [
    {
     "data": {
      "text/plain": [
       "(10266, 258)"
      ]
     },
     "execution_count": 60,
     "metadata": {},
     "output_type": "execute_result"
    }
   ],
   "source": [
    "data.shape"
   ]
  },
  {
   "cell_type": "code",
   "execution_count": 61,
   "metadata": {},
   "outputs": [
    {
     "data": {
      "text/plain": [
       "Dispersed Shareholders            2745\n",
       "Private Individuals               2118\n",
       "Founder owned, founder CEO        1856\n",
       "Family owned, family CEO          1755\n",
       "Other                              527\n",
       "Private Equity/Venture Capital     353\n",
       "Family owned, external CEO         346\n",
       "Founder owned, external CEO        300\n",
       "Government                         170\n",
       "Family owned, CEO unknown           55\n",
       "Founder owned, CEO unknown          41\n",
       "Name: ownership, dtype: int64"
      ]
     },
     "execution_count": 61,
     "metadata": {},
     "output_type": "execute_result"
    }
   ],
   "source": [
    "data.ownership.value_counts()"
   ]
  },
  {
   "cell_type": "markdown",
   "metadata": {},
   "source": [
    "### SAMPLE SELECTION\n",
    " Keep observations with:\n",
    "     Non-employee/Research/Gov/Other type of ownership\n",
    "     non-missing variables "
   ]
  },
  {
   "cell_type": "code",
   "execution_count": 69,
   "metadata": {},
   "outputs": [],
   "source": [
    "data = data.loc[\n",
    "    (data[\"ownership\"] != \"Government\") & (data[\"ownership\"] != \"Other\")\n",
    "].dropna(subset=[\"ownership\"])"
   ]
  },
  {
   "cell_type": "code",
   "execution_count": 70,
   "metadata": {},
   "outputs": [],
   "source": [
    "data = data.dropna(\n",
    "    subset=[\n",
    "        \"ownership\",\n",
    "        \"management\",\n",
    "        \"foundfam_owned\",\n",
    "        \"degree_nm\",\n",
    "        \"competition\",\n",
    "        \"industry\",\n",
    "        \"countrycode\",\n",
    "        \"lnemp\",\n",
    "    ]\n",
    ")"
   ]
  },
  {
   "cell_type": "code",
   "execution_count": 71,
   "metadata": {},
   "outputs": [
    {
     "data": {
      "text/html": [
       "<div>\n",
       "<style scoped>\n",
       "    .dataframe tbody tr th:only-of-type {\n",
       "        vertical-align: middle;\n",
       "    }\n",
       "\n",
       "    .dataframe tbody tr th {\n",
       "        vertical-align: top;\n",
       "    }\n",
       "\n",
       "    .dataframe thead th {\n",
       "        text-align: right;\n",
       "    }\n",
       "</style>\n",
       "<table border=\"1\" class=\"dataframe\">\n",
       "  <thead>\n",
       "    <tr style=\"text-align: right;\">\n",
       "      <th></th>\n",
       "      <th>count</th>\n",
       "      <th>mean</th>\n",
       "      <th>std</th>\n",
       "      <th>min</th>\n",
       "      <th>1%</th>\n",
       "      <th>50%</th>\n",
       "      <th>99%</th>\n",
       "      <th>max</th>\n",
       "    </tr>\n",
       "  </thead>\n",
       "  <tbody>\n",
       "    <tr>\n",
       "      <th>emp_firm</th>\n",
       "      <td>8666.0</td>\n",
       "      <td>838.88276</td>\n",
       "      <td>3772.303028</td>\n",
       "      <td>1.0</td>\n",
       "      <td>41.0</td>\n",
       "      <td>250.0</td>\n",
       "      <td>8000.0</td>\n",
       "      <td>176000.0</td>\n",
       "    </tr>\n",
       "  </tbody>\n",
       "</table>\n",
       "</div>"
      ],
      "text/plain": [
       "           count       mean          std  min    1%    50%     99%       max\n",
       "emp_firm  8666.0  838.88276  3772.303028  1.0  41.0  250.0  8000.0  176000.0"
      ]
     },
     "execution_count": 71,
     "metadata": {},
     "output_type": "execute_result"
    }
   ],
   "source": [
    "# Summary of num. of employment\n",
    "pd.DataFrame(data[\"emp_firm\"].describe(percentiles=[0.01, 0.5, 0.99])).T"
   ]
  },
  {
   "cell_type": "code",
   "execution_count": 72,
   "metadata": {},
   "outputs": [
    {
     "data": {
      "text/plain": [
       "103"
      ]
     },
     "execution_count": 72,
     "metadata": {},
     "output_type": "execute_result"
    }
   ],
   "source": [
    "# Drop tiny and large firms\n",
    "\n",
    "data.loc[data[\"emp_firm\"]<50].shape[0]"
   ]
  },
  {
   "cell_type": "code",
   "execution_count": 73,
   "metadata": {},
   "outputs": [
    {
     "data": {
      "text/plain": [
       "124"
      ]
     },
     "execution_count": 73,
     "metadata": {},
     "output_type": "execute_result"
    }
   ],
   "source": [
    "data.loc[data[\"emp_firm\"]>5000].shape[0]"
   ]
  },
  {
   "cell_type": "code",
   "execution_count": 74,
   "metadata": {},
   "outputs": [],
   "source": [
    "data = data.loc[(data[\"emp_firm\"] > 50) | (data[\"emp_firm\"] < 5000)]"
   ]
  },
  {
   "cell_type": "code",
   "execution_count": 78,
   "metadata": {},
   "outputs": [],
   "source": [
    "data.to_csv(data_out + \"wms_da_textbook-work.csv\")"
   ]
  }
 ],
 "metadata": {
  "kernelspec": {
   "display_name": "Python 3",
   "language": "python",
   "name": "python3"
  },
  "language_info": {
   "codemirror_mode": {
    "name": "ipython",
    "version": 3
   },
   "file_extension": ".py",
   "mimetype": "text/x-python",
   "name": "python",
   "nbconvert_exporter": "python",
   "pygments_lexer": "ipython3",
   "version": "3.8.6"
  }
 },
 "nbformat": 4,
 "nbformat_minor": 4
}
