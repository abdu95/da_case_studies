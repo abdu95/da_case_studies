{
 "cells": [
  {
   "cell_type": "code",
   "execution_count": 45,
   "metadata": {},
   "outputs": [
    {
     "name": "stdout",
     "output_type": "stream",
     "text": [
      "Requirement already satisfied: pyreadr in /anaconda3/lib/python3.6/site-packages (0.4.0)\n",
      "Requirement already satisfied: pandas>0.24.0 in /anaconda3/lib/python3.6/site-packages (from pyreadr) (1.1.0)\n",
      "Requirement already satisfied: pytz>=2017.2 in /anaconda3/lib/python3.6/site-packages (from pandas>0.24.0->pyreadr) (2018.4)\n",
      "Requirement already satisfied: python-dateutil>=2.7.3 in /anaconda3/lib/python3.6/site-packages (from pandas>0.24.0->pyreadr) (2.7.3)\n",
      "Requirement already satisfied: numpy>=1.15.4 in /anaconda3/lib/python3.6/site-packages (from pandas>0.24.0->pyreadr) (1.18.5)\n",
      "Requirement already satisfied: six>=1.5 in /anaconda3/lib/python3.6/site-packages (from python-dateutil>=2.7.3->pandas>0.24.0->pyreadr) (1.11.0)\n",
      "\u001b[33mWARNING: You are using pip version 20.1.1; however, version 20.3.3 is available.\n",
      "You should consider upgrading via the '/anaconda3/bin/python -m pip install --upgrade pip' command.\u001b[0m\n"
     ]
    }
   ],
   "source": [
    "!pip install pyreadr"
   ]
  },
  {
   "cell_type": "code",
   "execution_count": 46,
   "metadata": {},
   "outputs": [],
   "source": [
    "import os\n",
    "from pathlib import Path\n",
    "import pyreadr\n",
    "import pandas as pd\n",
    "import numpy as np\n",
    "from mizani.breaks import date_breaks\n",
    "from mizani.formatters import date_format\n",
    "from plotnine import *\n",
    "from datetime import datetime\n",
    "import sys\n",
    "import statsmodels"
   ]
  },
  {
   "cell_type": "code",
   "execution_count": 47,
   "metadata": {},
   "outputs": [],
   "source": [
    "path = Path(os.getcwd())"
   ]
  },
  {
   "cell_type": "code",
   "execution_count": 48,
   "metadata": {},
   "outputs": [],
   "source": [
    "base_dir = path.parent.parent"
   ]
  },
  {
   "cell_type": "code",
   "execution_count": 49,
   "metadata": {},
   "outputs": [],
   "source": [
    "data_in = os.path.join(str(base_dir) , \"da_data_repo/case-shiller-la/clean/\")\n",
    "data_out = os.path.join(str(base_dir) , \"da_data_repo/ch18-case-shiller-la/\")\n",
    "output = os.path.join(data_out,'output')\n",
    "func = os.path.join(str(base_dir) ,   \"da_case_studies/ch00-tech-prep/\")"
   ]
  },
  {
   "cell_type": "code",
   "execution_count": 50,
   "metadata": {},
   "outputs": [],
   "source": [
    "sys.path.append(func)\n",
    "from py_helper_functions import *"
   ]
  },
  {
   "cell_type": "code",
   "execution_count": 51,
   "metadata": {},
   "outputs": [],
   "source": [
    "#rds_path = os.path.join(data_in,\"houseprices-data-1990-2018.rds\")\n",
    "#result = pyreadr.read_r(rds_path)"
   ]
  },
  {
   "cell_type": "code",
   "execution_count": 52,
   "metadata": {},
   "outputs": [],
   "source": [
    "csv_path = os.path.join(data_in,\"houseprices-data-1990-2018.csv\")\n",
    "data = pd.read_csv(csv_path)"
   ]
  },
  {
   "cell_type": "code",
   "execution_count": 53,
   "metadata": {},
   "outputs": [
    {
     "data": {
      "text/html": [
       "<div>\n",
       "<style scoped>\n",
       "    .dataframe tbody tr th:only-of-type {\n",
       "        vertical-align: middle;\n",
       "    }\n",
       "\n",
       "    .dataframe tbody tr th {\n",
       "        vertical-align: top;\n",
       "    }\n",
       "\n",
       "    .dataframe thead th {\n",
       "        text-align: right;\n",
       "    }\n",
       "</style>\n",
       "<table border=\"1\" class=\"dataframe\">\n",
       "  <thead>\n",
       "    <tr style=\"text-align: right;\">\n",
       "      <th></th>\n",
       "      <th>date</th>\n",
       "      <th>CANA</th>\n",
       "      <th>CANAN</th>\n",
       "      <th>CAUR</th>\n",
       "      <th>CAURN</th>\n",
       "      <th>LXXRNSA</th>\n",
       "      <th>LXXRSA</th>\n",
       "      <th>ps</th>\n",
       "      <th>pn</th>\n",
       "      <th>us</th>\n",
       "      <th>un</th>\n",
       "      <th>emps</th>\n",
       "      <th>empn</th>\n",
       "    </tr>\n",
       "  </thead>\n",
       "  <tbody>\n",
       "    <tr>\n",
       "      <th>0</th>\n",
       "      <td>1990 jan.</td>\n",
       "      <td>12495.2</td>\n",
       "      <td>12329.0</td>\n",
       "      <td>5.2</td>\n",
       "      <td>5.7</td>\n",
       "      <td>100.225510</td>\n",
       "      <td>100.471193</td>\n",
       "      <td>100.471193</td>\n",
       "      <td>100.225510</td>\n",
       "      <td>5.2</td>\n",
       "      <td>5.7</td>\n",
       "      <td>12495.2</td>\n",
       "      <td>12329.0</td>\n",
       "    </tr>\n",
       "    <tr>\n",
       "      <th>1</th>\n",
       "      <td>1990 febr.</td>\n",
       "      <td>12500.7</td>\n",
       "      <td>12399.1</td>\n",
       "      <td>5.2</td>\n",
       "      <td>5.6</td>\n",
       "      <td>100.151430</td>\n",
       "      <td>100.761572</td>\n",
       "      <td>100.761572</td>\n",
       "      <td>100.151430</td>\n",
       "      <td>5.2</td>\n",
       "      <td>5.6</td>\n",
       "      <td>12500.7</td>\n",
       "      <td>12399.1</td>\n",
       "    </tr>\n",
       "    <tr>\n",
       "      <th>2</th>\n",
       "      <td>1990 márc.</td>\n",
       "      <td>12503.6</td>\n",
       "      <td>12476.7</td>\n",
       "      <td>5.2</td>\n",
       "      <td>5.4</td>\n",
       "      <td>100.017670</td>\n",
       "      <td>100.992838</td>\n",
       "      <td>100.992838</td>\n",
       "      <td>100.017670</td>\n",
       "      <td>5.2</td>\n",
       "      <td>5.4</td>\n",
       "      <td>12503.6</td>\n",
       "      <td>12476.7</td>\n",
       "    </tr>\n",
       "    <tr>\n",
       "      <th>3</th>\n",
       "      <td>1990 ápr.</td>\n",
       "      <td>12536.4</td>\n",
       "      <td>12502.9</td>\n",
       "      <td>5.3</td>\n",
       "      <td>5.4</td>\n",
       "      <td>99.986753</td>\n",
       "      <td>100.990410</td>\n",
       "      <td>100.990410</td>\n",
       "      <td>99.986753</td>\n",
       "      <td>5.3</td>\n",
       "      <td>5.4</td>\n",
       "      <td>12536.4</td>\n",
       "      <td>12502.9</td>\n",
       "    </tr>\n",
       "    <tr>\n",
       "      <th>4</th>\n",
       "      <td>1990 máj.</td>\n",
       "      <td>12553.2</td>\n",
       "      <td>12566.3</td>\n",
       "      <td>5.4</td>\n",
       "      <td>5.2</td>\n",
       "      <td>99.791606</td>\n",
       "      <td>100.394583</td>\n",
       "      <td>100.394583</td>\n",
       "      <td>99.791606</td>\n",
       "      <td>5.4</td>\n",
       "      <td>5.2</td>\n",
       "      <td>12553.2</td>\n",
       "      <td>12566.3</td>\n",
       "    </tr>\n",
       "  </tbody>\n",
       "</table>\n",
       "</div>"
      ],
      "text/plain": [
       "         date     CANA    CANAN  CAUR  CAURN     LXXRNSA      LXXRSA  \\\n",
       "0   1990 jan.  12495.2  12329.0   5.2    5.7  100.225510  100.471193   \n",
       "1  1990 febr.  12500.7  12399.1   5.2    5.6  100.151430  100.761572   \n",
       "2  1990 márc.  12503.6  12476.7   5.2    5.4  100.017670  100.992838   \n",
       "3   1990 ápr.  12536.4  12502.9   5.3    5.4   99.986753  100.990410   \n",
       "4   1990 máj.  12553.2  12566.3   5.4    5.2   99.791606  100.394583   \n",
       "\n",
       "           ps          pn   us   un     emps     empn  \n",
       "0  100.471193  100.225510  5.2  5.7  12495.2  12329.0  \n",
       "1  100.761572  100.151430  5.2  5.6  12500.7  12399.1  \n",
       "2  100.992838  100.017670  5.2  5.4  12503.6  12476.7  \n",
       "3  100.990410   99.986753  5.3  5.4  12536.4  12502.9  \n",
       "4  100.394583   99.791606  5.4  5.2  12553.2  12566.3  "
      ]
     },
     "execution_count": 53,
     "metadata": {},
     "output_type": "execute_result"
    }
   ],
   "source": [
    "data.head()"
   ]
  },
  {
   "cell_type": "markdown",
   "metadata": {},
   "source": [
    "### Format dates"
   ]
  },
  {
   "cell_type": "code",
   "execution_count": 54,
   "metadata": {},
   "outputs": [],
   "source": [
    "data[['year', 'month']] = data['date'].str.split(' ', n=1, expand=True)\n",
    "month_dict = {'jan.':'01',\n",
    "              'febr.':'02',\n",
    "              'márc.':'03',\n",
    "              'ápr.':'04',\n",
    "              'máj.':'05',\n",
    "              'jún.':'06',\n",
    "              'júl.':'07',\n",
    "              'aug.':'08',\n",
    "              'szept.':'09',\n",
    "              'okt.':'10',\n",
    "              'nov.':'11',\n",
    "              'dec.':'12'}\n",
    "data['month1']='-' + data['month'].map(month_dict)\n",
    "data['date1']=data['year']+data['month1']\n",
    "data['date']=pd.to_datetime(data['date1'])\n",
    "data = data.drop(['year','month','month1','date1'],axis=1)"
   ]
  },
  {
   "cell_type": "code",
   "execution_count": 55,
   "metadata": {},
   "outputs": [
    {
     "data": {
      "text/plain": [
       "date       datetime64[ns]\n",
       "CANA              float64\n",
       "CANAN             float64\n",
       "CAUR              float64\n",
       "CAURN             float64\n",
       "LXXRNSA           float64\n",
       "LXXRSA            float64\n",
       "ps                float64\n",
       "pn                float64\n",
       "us                float64\n",
       "un                float64\n",
       "emps              float64\n",
       "empn              float64\n",
       "dtype: object"
      ]
     },
     "execution_count": 55,
     "metadata": {},
     "output_type": "execute_result"
    }
   ],
   "source": [
    "data.dtypes"
   ]
  },
  {
   "cell_type": "code",
   "execution_count": 56,
   "metadata": {},
   "outputs": [],
   "source": [
    "data = data[(data['date'] >= '2000-01-01') & (data['date'] < '2018-01-01')]"
   ]
  },
  {
   "cell_type": "code",
   "execution_count": 57,
   "metadata": {},
   "outputs": [],
   "source": [
    "data = data.sort_values('date')"
   ]
  },
  {
   "cell_type": "code",
   "execution_count": 58,
   "metadata": {},
   "outputs": [
    {
     "data": {
      "text/html": [
       "<div>\n",
       "<style scoped>\n",
       "    .dataframe tbody tr th:only-of-type {\n",
       "        vertical-align: middle;\n",
       "    }\n",
       "\n",
       "    .dataframe tbody tr th {\n",
       "        vertical-align: top;\n",
       "    }\n",
       "\n",
       "    .dataframe thead th {\n",
       "        text-align: right;\n",
       "    }\n",
       "</style>\n",
       "<table border=\"1\" class=\"dataframe\">\n",
       "  <thead>\n",
       "    <tr style=\"text-align: right;\">\n",
       "      <th></th>\n",
       "      <th>date</th>\n",
       "      <th>CANA</th>\n",
       "      <th>CANAN</th>\n",
       "      <th>CAUR</th>\n",
       "      <th>CAURN</th>\n",
       "      <th>LXXRNSA</th>\n",
       "      <th>LXXRSA</th>\n",
       "      <th>ps</th>\n",
       "      <th>pn</th>\n",
       "      <th>us</th>\n",
       "      <th>un</th>\n",
       "      <th>emps</th>\n",
       "      <th>empn</th>\n",
       "    </tr>\n",
       "  </thead>\n",
       "  <tbody>\n",
       "    <tr>\n",
       "      <th>120</th>\n",
       "      <td>2000-01-01</td>\n",
       "      <td>14346.8</td>\n",
       "      <td>14132.7</td>\n",
       "      <td>5.0</td>\n",
       "      <td>5.4</td>\n",
       "      <td>100.00000</td>\n",
       "      <td>101.031209</td>\n",
       "      <td>101.031209</td>\n",
       "      <td>100.00000</td>\n",
       "      <td>5.0</td>\n",
       "      <td>5.4</td>\n",
       "      <td>14346.8</td>\n",
       "      <td>14132.7</td>\n",
       "    </tr>\n",
       "    <tr>\n",
       "      <th>121</th>\n",
       "      <td>2000-02-01</td>\n",
       "      <td>14390.6</td>\n",
       "      <td>14270.0</td>\n",
       "      <td>5.0</td>\n",
       "      <td>5.4</td>\n",
       "      <td>100.61896</td>\n",
       "      <td>102.043406</td>\n",
       "      <td>102.043406</td>\n",
       "      <td>100.61896</td>\n",
       "      <td>5.0</td>\n",
       "      <td>5.4</td>\n",
       "      <td>14390.6</td>\n",
       "      <td>14270.0</td>\n",
       "    </tr>\n",
       "    <tr>\n",
       "      <th>122</th>\n",
       "      <td>2000-03-01</td>\n",
       "      <td>14431.7</td>\n",
       "      <td>14421.3</td>\n",
       "      <td>5.0</td>\n",
       "      <td>5.4</td>\n",
       "      <td>102.12780</td>\n",
       "      <td>103.224699</td>\n",
       "      <td>103.224699</td>\n",
       "      <td>102.12780</td>\n",
       "      <td>5.0</td>\n",
       "      <td>5.4</td>\n",
       "      <td>14431.7</td>\n",
       "      <td>14421.3</td>\n",
       "    </tr>\n",
       "    <tr>\n",
       "      <th>123</th>\n",
       "      <td>2000-04-01</td>\n",
       "      <td>14482.4</td>\n",
       "      <td>14451.0</td>\n",
       "      <td>5.1</td>\n",
       "      <td>4.8</td>\n",
       "      <td>103.70410</td>\n",
       "      <td>104.159399</td>\n",
       "      <td>104.159399</td>\n",
       "      <td>103.70410</td>\n",
       "      <td>5.1</td>\n",
       "      <td>4.8</td>\n",
       "      <td>14482.4</td>\n",
       "      <td>14451.0</td>\n",
       "    </tr>\n",
       "    <tr>\n",
       "      <th>124</th>\n",
       "      <td>2000-05-01</td>\n",
       "      <td>14550.6</td>\n",
       "      <td>14590.2</td>\n",
       "      <td>5.1</td>\n",
       "      <td>4.8</td>\n",
       "      <td>104.98908</td>\n",
       "      <td>104.924698</td>\n",
       "      <td>104.924698</td>\n",
       "      <td>104.98908</td>\n",
       "      <td>5.1</td>\n",
       "      <td>4.8</td>\n",
       "      <td>14550.6</td>\n",
       "      <td>14590.2</td>\n",
       "    </tr>\n",
       "  </tbody>\n",
       "</table>\n",
       "</div>"
      ],
      "text/plain": [
       "          date     CANA    CANAN  CAUR  CAURN    LXXRNSA      LXXRSA  \\\n",
       "120 2000-01-01  14346.8  14132.7   5.0    5.4  100.00000  101.031209   \n",
       "121 2000-02-01  14390.6  14270.0   5.0    5.4  100.61896  102.043406   \n",
       "122 2000-03-01  14431.7  14421.3   5.0    5.4  102.12780  103.224699   \n",
       "123 2000-04-01  14482.4  14451.0   5.1    4.8  103.70410  104.159399   \n",
       "124 2000-05-01  14550.6  14590.2   5.1    4.8  104.98908  104.924698   \n",
       "\n",
       "             ps         pn   us   un     emps     empn  \n",
       "120  101.031209  100.00000  5.0  5.4  14346.8  14132.7  \n",
       "121  102.043406  100.61896  5.0  5.4  14390.6  14270.0  \n",
       "122  103.224699  102.12780  5.0  5.4  14431.7  14421.3  \n",
       "123  104.159399  103.70410  5.1  4.8  14482.4  14451.0  \n",
       "124  104.924698  104.98908  5.1  4.8  14550.6  14590.2  "
      ]
     },
     "execution_count": 58,
     "metadata": {},
     "output_type": "execute_result"
    }
   ],
   "source": [
    "data.head()"
   ]
  },
  {
   "cell_type": "code",
   "execution_count": 59,
   "metadata": {},
   "outputs": [],
   "source": [
    "data = data.assign(p=data['pn'],u=data['us'],emp=data['emps'])"
   ]
  },
  {
   "cell_type": "code",
   "execution_count": 60,
   "metadata": {},
   "outputs": [],
   "source": [
    "data =  data.assign(\n",
    "        dp = data['p'].diff(),\n",
    "        p_lag = data['p'].shift(),\n",
    "        lnp = np.log(data['p']))\n",
    "data =  data.assign(\n",
    "        dlnp = data['lnp'].diff(),\n",
    "        lnp_lag = data['lnp'].shift())\n",
    "data =  data.assign(\n",
    "        dlnp_lag = data['dlnp'].shift(),\n",
    "        du = data['u'].diff(),\n",
    "        lnemp = np.log(data['emp']))\n",
    "\n",
    "data['dlnemp'] = data['lnemp'].diff()"
   ]
  },
  {
   "cell_type": "code",
   "execution_count": 61,
   "metadata": {},
   "outputs": [],
   "source": [
    "data = data.reset_index(drop=True)"
   ]
  },
  {
   "cell_type": "code",
   "execution_count": 62,
   "metadata": {},
   "outputs": [
    {
     "data": {
      "text/html": [
       "<div>\n",
       "<style scoped>\n",
       "    .dataframe tbody tr th:only-of-type {\n",
       "        vertical-align: middle;\n",
       "    }\n",
       "\n",
       "    .dataframe tbody tr th {\n",
       "        vertical-align: top;\n",
       "    }\n",
       "\n",
       "    .dataframe thead th {\n",
       "        text-align: right;\n",
       "    }\n",
       "</style>\n",
       "<table border=\"1\" class=\"dataframe\">\n",
       "  <thead>\n",
       "    <tr style=\"text-align: right;\">\n",
       "      <th></th>\n",
       "      <th>date</th>\n",
       "      <th>CANA</th>\n",
       "      <th>CANAN</th>\n",
       "      <th>CAUR</th>\n",
       "      <th>CAURN</th>\n",
       "      <th>LXXRNSA</th>\n",
       "      <th>LXXRSA</th>\n",
       "      <th>ps</th>\n",
       "      <th>pn</th>\n",
       "      <th>us</th>\n",
       "      <th>...</th>\n",
       "      <th>emp</th>\n",
       "      <th>dp</th>\n",
       "      <th>p_lag</th>\n",
       "      <th>lnp</th>\n",
       "      <th>dlnp</th>\n",
       "      <th>lnp_lag</th>\n",
       "      <th>dlnp_lag</th>\n",
       "      <th>du</th>\n",
       "      <th>lnemp</th>\n",
       "      <th>dlnemp</th>\n",
       "    </tr>\n",
       "  </thead>\n",
       "  <tbody>\n",
       "    <tr>\n",
       "      <th>0</th>\n",
       "      <td>2000-01-01</td>\n",
       "      <td>14346.8</td>\n",
       "      <td>14132.7</td>\n",
       "      <td>5.0</td>\n",
       "      <td>5.4</td>\n",
       "      <td>100.000000</td>\n",
       "      <td>101.031209</td>\n",
       "      <td>101.031209</td>\n",
       "      <td>100.000000</td>\n",
       "      <td>5.0</td>\n",
       "      <td>...</td>\n",
       "      <td>14346.8</td>\n",
       "      <td>NaN</td>\n",
       "      <td>NaN</td>\n",
       "      <td>4.605170</td>\n",
       "      <td>NaN</td>\n",
       "      <td>NaN</td>\n",
       "      <td>NaN</td>\n",
       "      <td>NaN</td>\n",
       "      <td>9.571282</td>\n",
       "      <td>NaN</td>\n",
       "    </tr>\n",
       "    <tr>\n",
       "      <th>1</th>\n",
       "      <td>2000-02-01</td>\n",
       "      <td>14390.6</td>\n",
       "      <td>14270.0</td>\n",
       "      <td>5.0</td>\n",
       "      <td>5.4</td>\n",
       "      <td>100.618960</td>\n",
       "      <td>102.043406</td>\n",
       "      <td>102.043406</td>\n",
       "      <td>100.618960</td>\n",
       "      <td>5.0</td>\n",
       "      <td>...</td>\n",
       "      <td>14390.6</td>\n",
       "      <td>0.618960</td>\n",
       "      <td>100.000000</td>\n",
       "      <td>4.611341</td>\n",
       "      <td>0.006171</td>\n",
       "      <td>4.605170</td>\n",
       "      <td>NaN</td>\n",
       "      <td>0.0</td>\n",
       "      <td>9.574330</td>\n",
       "      <td>0.003048</td>\n",
       "    </tr>\n",
       "    <tr>\n",
       "      <th>2</th>\n",
       "      <td>2000-03-01</td>\n",
       "      <td>14431.7</td>\n",
       "      <td>14421.3</td>\n",
       "      <td>5.0</td>\n",
       "      <td>5.4</td>\n",
       "      <td>102.127800</td>\n",
       "      <td>103.224699</td>\n",
       "      <td>103.224699</td>\n",
       "      <td>102.127800</td>\n",
       "      <td>5.0</td>\n",
       "      <td>...</td>\n",
       "      <td>14431.7</td>\n",
       "      <td>1.508840</td>\n",
       "      <td>100.618960</td>\n",
       "      <td>4.626225</td>\n",
       "      <td>0.014884</td>\n",
       "      <td>4.611341</td>\n",
       "      <td>0.006171</td>\n",
       "      <td>0.0</td>\n",
       "      <td>9.577182</td>\n",
       "      <td>0.002852</td>\n",
       "    </tr>\n",
       "    <tr>\n",
       "      <th>3</th>\n",
       "      <td>2000-04-01</td>\n",
       "      <td>14482.4</td>\n",
       "      <td>14451.0</td>\n",
       "      <td>5.1</td>\n",
       "      <td>4.8</td>\n",
       "      <td>103.704100</td>\n",
       "      <td>104.159399</td>\n",
       "      <td>104.159399</td>\n",
       "      <td>103.704100</td>\n",
       "      <td>5.1</td>\n",
       "      <td>...</td>\n",
       "      <td>14482.4</td>\n",
       "      <td>1.576300</td>\n",
       "      <td>102.127800</td>\n",
       "      <td>4.641542</td>\n",
       "      <td>0.015317</td>\n",
       "      <td>4.626225</td>\n",
       "      <td>0.014884</td>\n",
       "      <td>0.1</td>\n",
       "      <td>9.580689</td>\n",
       "      <td>0.003507</td>\n",
       "    </tr>\n",
       "    <tr>\n",
       "      <th>4</th>\n",
       "      <td>2000-05-01</td>\n",
       "      <td>14550.6</td>\n",
       "      <td>14590.2</td>\n",
       "      <td>5.1</td>\n",
       "      <td>4.8</td>\n",
       "      <td>104.989080</td>\n",
       "      <td>104.924698</td>\n",
       "      <td>104.924698</td>\n",
       "      <td>104.989080</td>\n",
       "      <td>5.1</td>\n",
       "      <td>...</td>\n",
       "      <td>14550.6</td>\n",
       "      <td>1.284980</td>\n",
       "      <td>103.704100</td>\n",
       "      <td>4.653856</td>\n",
       "      <td>0.012315</td>\n",
       "      <td>4.641542</td>\n",
       "      <td>0.015317</td>\n",
       "      <td>0.0</td>\n",
       "      <td>9.585388</td>\n",
       "      <td>0.004698</td>\n",
       "    </tr>\n",
       "    <tr>\n",
       "      <th>...</th>\n",
       "      <td>...</td>\n",
       "      <td>...</td>\n",
       "      <td>...</td>\n",
       "      <td>...</td>\n",
       "      <td>...</td>\n",
       "      <td>...</td>\n",
       "      <td>...</td>\n",
       "      <td>...</td>\n",
       "      <td>...</td>\n",
       "      <td>...</td>\n",
       "      <td>...</td>\n",
       "      <td>...</td>\n",
       "      <td>...</td>\n",
       "      <td>...</td>\n",
       "      <td>...</td>\n",
       "      <td>...</td>\n",
       "      <td>...</td>\n",
       "      <td>...</td>\n",
       "      <td>...</td>\n",
       "      <td>...</td>\n",
       "      <td>...</td>\n",
       "    </tr>\n",
       "    <tr>\n",
       "      <th>211</th>\n",
       "      <td>2017-08-01</td>\n",
       "      <td>16880.1</td>\n",
       "      <td>16816.7</td>\n",
       "      <td>4.7</td>\n",
       "      <td>5.0</td>\n",
       "      <td>266.852921</td>\n",
       "      <td>265.270468</td>\n",
       "      <td>265.270468</td>\n",
       "      <td>266.852921</td>\n",
       "      <td>4.7</td>\n",
       "      <td>...</td>\n",
       "      <td>16880.1</td>\n",
       "      <td>0.614863</td>\n",
       "      <td>266.238058</td>\n",
       "      <td>5.586698</td>\n",
       "      <td>0.002307</td>\n",
       "      <td>5.584391</td>\n",
       "      <td>0.010913</td>\n",
       "      <td>0.0</td>\n",
       "      <td>9.733891</td>\n",
       "      <td>0.001464</td>\n",
       "    </tr>\n",
       "    <tr>\n",
       "      <th>212</th>\n",
       "      <td>2017-09-01</td>\n",
       "      <td>16910.3</td>\n",
       "      <td>16902.7</td>\n",
       "      <td>4.6</td>\n",
       "      <td>4.4</td>\n",
       "      <td>267.838649</td>\n",
       "      <td>267.011819</td>\n",
       "      <td>267.011819</td>\n",
       "      <td>267.838649</td>\n",
       "      <td>4.6</td>\n",
       "      <td>...</td>\n",
       "      <td>16910.3</td>\n",
       "      <td>0.985727</td>\n",
       "      <td>266.852921</td>\n",
       "      <td>5.590385</td>\n",
       "      <td>0.003687</td>\n",
       "      <td>5.586698</td>\n",
       "      <td>0.002307</td>\n",
       "      <td>-0.1</td>\n",
       "      <td>9.735678</td>\n",
       "      <td>0.001787</td>\n",
       "    </tr>\n",
       "    <tr>\n",
       "      <th>213</th>\n",
       "      <td>2017-10-01</td>\n",
       "      <td>16951.3</td>\n",
       "      <td>17054.4</td>\n",
       "      <td>4.5</td>\n",
       "      <td>4.3</td>\n",
       "      <td>268.278285</td>\n",
       "      <td>268.436825</td>\n",
       "      <td>268.436825</td>\n",
       "      <td>268.278285</td>\n",
       "      <td>4.5</td>\n",
       "      <td>...</td>\n",
       "      <td>16951.3</td>\n",
       "      <td>0.439636</td>\n",
       "      <td>267.838649</td>\n",
       "      <td>5.592025</td>\n",
       "      <td>0.001640</td>\n",
       "      <td>5.590385</td>\n",
       "      <td>0.003687</td>\n",
       "      <td>-0.1</td>\n",
       "      <td>9.738100</td>\n",
       "      <td>0.002422</td>\n",
       "    </tr>\n",
       "    <tr>\n",
       "      <th>214</th>\n",
       "      <td>2017-11-01</td>\n",
       "      <td>16978.5</td>\n",
       "      <td>17164.8</td>\n",
       "      <td>4.5</td>\n",
       "      <td>4.3</td>\n",
       "      <td>270.010862</td>\n",
       "      <td>271.060084</td>\n",
       "      <td>271.060084</td>\n",
       "      <td>270.010862</td>\n",
       "      <td>4.5</td>\n",
       "      <td>...</td>\n",
       "      <td>16978.5</td>\n",
       "      <td>1.732577</td>\n",
       "      <td>268.278285</td>\n",
       "      <td>5.598462</td>\n",
       "      <td>0.006437</td>\n",
       "      <td>5.592025</td>\n",
       "      <td>0.001640</td>\n",
       "      <td>0.0</td>\n",
       "      <td>9.739703</td>\n",
       "      <td>0.001603</td>\n",
       "    </tr>\n",
       "    <tr>\n",
       "      <th>215</th>\n",
       "      <td>2017-12-01</td>\n",
       "      <td>17023.8</td>\n",
       "      <td>17189.4</td>\n",
       "      <td>4.4</td>\n",
       "      <td>4.3</td>\n",
       "      <td>271.579593</td>\n",
       "      <td>273.059659</td>\n",
       "      <td>273.059659</td>\n",
       "      <td>271.579593</td>\n",
       "      <td>4.4</td>\n",
       "      <td>...</td>\n",
       "      <td>17023.8</td>\n",
       "      <td>1.568732</td>\n",
       "      <td>270.010862</td>\n",
       "      <td>5.604255</td>\n",
       "      <td>0.005793</td>\n",
       "      <td>5.598462</td>\n",
       "      <td>0.006437</td>\n",
       "      <td>-0.1</td>\n",
       "      <td>9.742368</td>\n",
       "      <td>0.002665</td>\n",
       "    </tr>\n",
       "  </tbody>\n",
       "</table>\n",
       "<p>216 rows × 25 columns</p>\n",
       "</div>"
      ],
      "text/plain": [
       "          date     CANA    CANAN  CAUR  CAURN     LXXRNSA      LXXRSA  \\\n",
       "0   2000-01-01  14346.8  14132.7   5.0    5.4  100.000000  101.031209   \n",
       "1   2000-02-01  14390.6  14270.0   5.0    5.4  100.618960  102.043406   \n",
       "2   2000-03-01  14431.7  14421.3   5.0    5.4  102.127800  103.224699   \n",
       "3   2000-04-01  14482.4  14451.0   5.1    4.8  103.704100  104.159399   \n",
       "4   2000-05-01  14550.6  14590.2   5.1    4.8  104.989080  104.924698   \n",
       "..         ...      ...      ...   ...    ...         ...         ...   \n",
       "211 2017-08-01  16880.1  16816.7   4.7    5.0  266.852921  265.270468   \n",
       "212 2017-09-01  16910.3  16902.7   4.6    4.4  267.838649  267.011819   \n",
       "213 2017-10-01  16951.3  17054.4   4.5    4.3  268.278285  268.436825   \n",
       "214 2017-11-01  16978.5  17164.8   4.5    4.3  270.010862  271.060084   \n",
       "215 2017-12-01  17023.8  17189.4   4.4    4.3  271.579593  273.059659   \n",
       "\n",
       "             ps          pn   us  ...      emp        dp       p_lag  \\\n",
       "0    101.031209  100.000000  5.0  ...  14346.8       NaN         NaN   \n",
       "1    102.043406  100.618960  5.0  ...  14390.6  0.618960  100.000000   \n",
       "2    103.224699  102.127800  5.0  ...  14431.7  1.508840  100.618960   \n",
       "3    104.159399  103.704100  5.1  ...  14482.4  1.576300  102.127800   \n",
       "4    104.924698  104.989080  5.1  ...  14550.6  1.284980  103.704100   \n",
       "..          ...         ...  ...  ...      ...       ...         ...   \n",
       "211  265.270468  266.852921  4.7  ...  16880.1  0.614863  266.238058   \n",
       "212  267.011819  267.838649  4.6  ...  16910.3  0.985727  266.852921   \n",
       "213  268.436825  268.278285  4.5  ...  16951.3  0.439636  267.838649   \n",
       "214  271.060084  270.010862  4.5  ...  16978.5  1.732577  268.278285   \n",
       "215  273.059659  271.579593  4.4  ...  17023.8  1.568732  270.010862   \n",
       "\n",
       "          lnp      dlnp   lnp_lag  dlnp_lag   du     lnemp    dlnemp  \n",
       "0    4.605170       NaN       NaN       NaN  NaN  9.571282       NaN  \n",
       "1    4.611341  0.006171  4.605170       NaN  0.0  9.574330  0.003048  \n",
       "2    4.626225  0.014884  4.611341  0.006171  0.0  9.577182  0.002852  \n",
       "3    4.641542  0.015317  4.626225  0.014884  0.1  9.580689  0.003507  \n",
       "4    4.653856  0.012315  4.641542  0.015317  0.0  9.585388  0.004698  \n",
       "..        ...       ...       ...       ...  ...       ...       ...  \n",
       "211  5.586698  0.002307  5.584391  0.010913  0.0  9.733891  0.001464  \n",
       "212  5.590385  0.003687  5.586698  0.002307 -0.1  9.735678  0.001787  \n",
       "213  5.592025  0.001640  5.590385  0.003687 -0.1  9.738100  0.002422  \n",
       "214  5.598462  0.006437  5.592025  0.001640  0.0  9.739703  0.001603  \n",
       "215  5.604255  0.005793  5.598462  0.006437 -0.1  9.742368  0.002665  \n",
       "\n",
       "[216 rows x 25 columns]"
      ]
     },
     "execution_count": 62,
     "metadata": {},
     "output_type": "execute_result"
    }
   ],
   "source": [
    "data"
   ]
  },
  {
   "cell_type": "code",
   "execution_count": 63,
   "metadata": {},
   "outputs": [],
   "source": [
    "data['trend']=[i for i in range(1,len(data)+1)]"
   ]
  },
  {
   "cell_type": "code",
   "execution_count": 64,
   "metadata": {},
   "outputs": [],
   "source": [
    "data['month'] = data['date'].dt.strftime('%m').astype('category')"
   ]
  },
  {
   "cell_type": "code",
   "execution_count": 65,
   "metadata": {},
   "outputs": [],
   "source": [
    "#spot check data same as in R"
   ]
  },
  {
   "cell_type": "code",
   "execution_count": 67,
   "metadata": {},
   "outputs": [],
   "source": [
    "assert data.loc[0,'p'] == 100\n",
    "assert data.loc[0,'u'] == 5\n",
    "assert data.loc[0,'emp'] == 14346.8\n",
    "np.testing.assert_almost_equal(data.loc[0,'lnemp'], 9.571282,decimal=5)\n",
    "assert data.loc[0,'month'] == '01'"
   ]
  },
  {
   "cell_type": "code",
   "execution_count": 71,
   "metadata": {},
   "outputs": [],
   "source": [
    "np.testing.assert_almost_equal(data.loc[215,'p'],271.5796,decimal=5)\n",
    "np.testing.assert_almost_equal(data.loc[215,'u'],4.4,decimal=5)\n",
    "np.testing.assert_almost_equal(data.loc[215,'lnemp'],9.742368,decimal=5)\n",
    "assert data.loc[215,'month'] == '12'"
   ]
  },
  {
   "cell_type": "code",
   "execution_count": 20,
   "metadata": {},
   "outputs": [],
   "source": [
    "# GRAPHS part 1"
   ]
  },
  {
   "cell_type": "code",
   "execution_count": 21,
   "metadata": {},
   "outputs": [],
   "source": [
    "limits = datetime(2000, 1, 1), datetime(2018, 1, 1)"
   ]
  },
  {
   "cell_type": "code",
   "execution_count": 22,
   "metadata": {},
   "outputs": [],
   "source": [
    "breaks = date_breaks('1 year')"
   ]
  },
  {
   "cell_type": "code",
   "execution_count": 23,
   "metadata": {},
   "outputs": [],
   "source": [
    "price_index_plot = (ggplot(data) \n",
    "  + geom_line(aes('date','p'),color = color[1], size = 0.5) \n",
    "  + scale_y_continuous(limits = [50,300], breaks = seq(50,300,50)) \n",
    "  + scale_x_date(breaks = breaks(limits)[::3], labels = date_format(\"%b%Y\")) \n",
    "  + labs(y = \"Case-shiller Price index\",x= \"Date (month)\") \n",
    "  + theme_bw())"
   ]
  },
  {
   "cell_type": "code",
   "execution_count": 24,
   "metadata": {},
   "outputs": [
    {
     "data": {
      "text/plain": [
       "[datetime.datetime(2000, 1, 1, 0, 0, tzinfo=datetime.timezone.utc),\n",
       " datetime.datetime(2003, 1, 1, 0, 0, tzinfo=datetime.timezone.utc),\n",
       " datetime.datetime(2006, 1, 1, 0, 0, tzinfo=datetime.timezone.utc),\n",
       " datetime.datetime(2009, 1, 1, 0, 0, tzinfo=datetime.timezone.utc),\n",
       " datetime.datetime(2012, 1, 1, 0, 0, tzinfo=datetime.timezone.utc),\n",
       " datetime.datetime(2015, 1, 1, 0, 0, tzinfo=datetime.timezone.utc),\n",
       " datetime.datetime(2018, 1, 1, 0, 0, tzinfo=datetime.timezone.utc)]"
      ]
     },
     "execution_count": 24,
     "metadata": {},
     "output_type": "execute_result"
    }
   ],
   "source": [
    "breaks(limits)[::3]"
   ]
  },
  {
   "cell_type": "code",
   "execution_count": 25,
   "metadata": {},
   "outputs": [
    {
     "data": {
      "image/png": "[encoded data removed]",
      "text/plain": [
       "<Figure size 640x480 with 1 Axes>"
      ]
     },
     "metadata": {},
     "output_type": "display_data"
    },
    {
     "data": {
      "text/plain": [
       "<ggplot: (-9223372036546314713)>"
      ]
     },
     "execution_count": 25,
     "metadata": {},
     "output_type": "execute_result"
    }
   ],
   "source": [
    "price_index_plot"
   ]
  },
  {
   "cell_type": "markdown",
   "metadata": {},
   "source": [
    "\n"
   ]
  },
  {
   "cell_type": "code",
   "execution_count": 26,
   "metadata": {},
   "outputs": [],
   "source": [
    "#GRAPHS part 2"
   ]
  },
  {
   "cell_type": "code",
   "execution_count": 27,
   "metadata": {},
   "outputs": [],
   "source": [
    "#Create train/holdout data"
   ]
  },
  {
   "cell_type": "code",
   "execution_count": 42,
   "metadata": {},
   "outputs": [],
   "source": [
    "data_holdout= data.loc[data['date'].dt.year==2017,:]\n",
    "data_train= data.loc[data['date'].dt.year<2017,:]"
   ]
  },
  {
   "cell_type": "code",
   "execution_count": 77,
   "metadata": {},
   "outputs": [
    {
     "name": "stderr",
     "output_type": "stream",
     "text": [
      "/anaconda3/lib/python3.6/site-packages/statsmodels/tsa/stattools.py:1685: InterpolationWarning: p-value is smaller than the indicated p-value\n"
     ]
    },
    {
     "data": {
      "text/plain": [
       "(1.2007095633957598,\n",
       " 0.01,\n",
       " 1,\n",
       " {'10%': 0.119, '5%': 0.146, '2.5%': 0.176, '1%': 0.216})"
      ]
     },
     "execution_count": 77,
     "metadata": {},
     "output_type": "execute_result"
    }
   ],
   "source": [
    "#TODO:\n",
    "#data seems ok but stat values don't match\n",
    "#R kpss_stat=1.47\n",
    "#R doc\n",
    "#unitroot_kpss computes the statistic for the\n",
    "#Kwiatkowski et al. unit root test with linear trend and lag 1.\n",
    "\n",
    "statsmodels.tsa.stattools.kpss(data['p'],regression='ct', nlags=1)"
   ]
  },
  {
   "cell_type": "code",
   "execution_count": 79,
   "metadata": {},
   "outputs": [
    {
     "name": "stderr",
     "output_type": "stream",
     "text": [
      "/anaconda3/lib/python3.6/site-packages/statsmodels/tsa/stattools.py:1685: InterpolationWarning: p-value is smaller than the indicated p-value\n"
     ]
    },
    {
     "data": {
      "text/plain": [
       "(1.3121946546487138,\n",
       " 0.01,\n",
       " 1,\n",
       " {'10%': 0.119, '5%': 0.146, '2.5%': 0.176, '1%': 0.216})"
      ]
     },
     "execution_count": 79,
     "metadata": {},
     "output_type": "execute_result"
    }
   ],
   "source": [
    "#TODO:\n",
    "#data seems ok but stat values don't match\n",
    "#R kpss_stat=1.70\n",
    "statsmodels.tsa.stattools.kpss(data['lnp'],regression='ct', nlags=1)"
   ]
  },
  {
   "cell_type": "code",
   "execution_count": null,
   "metadata": {},
   "outputs": [],
   "source": [
    "#create arima models in R"
   ]
  },
  {
   "cell_type": "code",
   "execution_count": null,
   "metadata": {},
   "outputs": [],
   "source": []
  },
  {
   "cell_type": "code",
   "execution_count": null,
   "metadata": {},
   "outputs": [],
   "source": []
  },
  {
   "cell_type": "code",
   "execution_count": null,
   "metadata": {},
   "outputs": [],
   "source": []
  },
  {
   "cell_type": "code",
   "execution_count": null,
   "metadata": {},
   "outputs": [],
   "source": []
  },
  {
   "cell_type": "code",
   "execution_count": null,
   "metadata": {},
   "outputs": [],
   "source": []
  }
 ],
 "metadata": {
  "kernelspec": {
   "display_name": "Python 3",
   "language": "python",
   "name": "python3"
  },
  "language_info": {
   "codemirror_mode": {
    "name": "ipython",
    "version": 3
   },
   "file_extension": ".py",
   "mimetype": "text/x-python",
   "name": "python",
   "nbconvert_exporter": "python",
   "pygments_lexer": "ipython3",
   "version": "3.6.5"
  }
 },
 "nbformat": 4,
 "nbformat_minor": 2
}
